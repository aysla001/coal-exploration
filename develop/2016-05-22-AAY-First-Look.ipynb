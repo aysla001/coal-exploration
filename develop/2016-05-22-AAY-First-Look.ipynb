{
 "cells": [
  {
   "cell_type": "code",
   "execution_count": 44,
   "metadata": {
    "collapsed": false
   },
   "outputs": [],
   "source": [
    "%matplotlib inline\n",
    "import matplotlib.pyplot as plt\n",
    "import numpy as np\n",
    "import pandas as pd\n",
    "import seaborn as sns\n",
    "sns.set();"
   ]
  },
  {
   "cell_type": "code",
   "execution_count": 5,
   "metadata": {
    "collapsed": false
   },
   "outputs": [
    {
     "data": {
      "text/html": [
       "<div>\n",
       "<table border=\"1\" class=\"dataframe\">\n",
       "  <thead>\n",
       "    <tr style=\"text-align: right;\">\n",
       "      <th></th>\n",
       "      <th>Year</th>\n",
       "      <th>Mine Name</th>\n",
       "      <th>Mine State</th>\n",
       "      <th>Mine County</th>\n",
       "      <th>Mine Status</th>\n",
       "      <th>Mine Type</th>\n",
       "      <th>Company Type</th>\n",
       "      <th>Operation Type</th>\n",
       "      <th>Operating Company</th>\n",
       "      <th>Operating Company Address</th>\n",
       "      <th>Union Code</th>\n",
       "      <th>Coal Supply Region</th>\n",
       "      <th>Production (short tons)</th>\n",
       "      <th>Average Employees</th>\n",
       "      <th>Labor Hours</th>\n",
       "    </tr>\n",
       "    <tr>\n",
       "      <th>MSHA ID</th>\n",
       "      <th></th>\n",
       "      <th></th>\n",
       "      <th></th>\n",
       "      <th></th>\n",
       "      <th></th>\n",
       "      <th></th>\n",
       "      <th></th>\n",
       "      <th></th>\n",
       "      <th></th>\n",
       "      <th></th>\n",
       "      <th></th>\n",
       "      <th></th>\n",
       "      <th></th>\n",
       "      <th></th>\n",
       "      <th></th>\n",
       "    </tr>\n",
       "  </thead>\n",
       "  <tbody>\n",
       "    <tr>\n",
       "      <th>103381</th>\n",
       "      <td>2013</td>\n",
       "      <td>Tacoa Highwall Miner</td>\n",
       "      <td>Alabama</td>\n",
       "      <td>Bibb</td>\n",
       "      <td>Active, men working, not producing</td>\n",
       "      <td>Surface</td>\n",
       "      <td>Indepedent Producer Operator</td>\n",
       "      <td>Mine only</td>\n",
       "      <td>Jesse Creek Mining, Llc</td>\n",
       "      <td>1615 Kent Dairy Rd, Alabaster, AL 35007</td>\n",
       "      <td></td>\n",
       "      <td>Appalachia Southern</td>\n",
       "      <td>56004</td>\n",
       "      <td>10</td>\n",
       "      <td>22392</td>\n",
       "    </tr>\n",
       "    <tr>\n",
       "      <th>103404</th>\n",
       "      <td>2013</td>\n",
       "      <td>Reid School Mine</td>\n",
       "      <td>Alabama</td>\n",
       "      <td>Blount</td>\n",
       "      <td>Permanently abandoned</td>\n",
       "      <td>Surface</td>\n",
       "      <td>Indepedent Producer Operator</td>\n",
       "      <td>Mine only</td>\n",
       "      <td>Taft Coal Sales &amp; Associates,</td>\n",
       "      <td>3000 Riverchase Galleria Ste 1, Birmingham, AL...</td>\n",
       "      <td>UNIT</td>\n",
       "      <td>Appalachia Southern</td>\n",
       "      <td>28807</td>\n",
       "      <td>18</td>\n",
       "      <td>28447</td>\n",
       "    </tr>\n",
       "    <tr>\n",
       "      <th>100759</th>\n",
       "      <td>2013</td>\n",
       "      <td>North River #1 Underground Min</td>\n",
       "      <td>Alabama</td>\n",
       "      <td>Fayette</td>\n",
       "      <td>Active, men working, not producing</td>\n",
       "      <td>Underground</td>\n",
       "      <td>Indepedent Producer Operator</td>\n",
       "      <td>Mine and Preparation Plant</td>\n",
       "      <td>Jim Walter Resources Inc</td>\n",
       "      <td>3114 County Rd 63 S, Berry, AL 35546</td>\n",
       "      <td>UNIT</td>\n",
       "      <td>Appalachia Southern</td>\n",
       "      <td>1440115</td>\n",
       "      <td>183</td>\n",
       "      <td>474784</td>\n",
       "    </tr>\n",
       "    <tr>\n",
       "      <th>103246</th>\n",
       "      <td>2013</td>\n",
       "      <td>Bear Creek</td>\n",
       "      <td>Alabama</td>\n",
       "      <td>Franklin</td>\n",
       "      <td>Active</td>\n",
       "      <td>Surface</td>\n",
       "      <td>Indepedent Producer Operator</td>\n",
       "      <td>Mine only</td>\n",
       "      <td>Birmingham Coal &amp; Coke Co., In</td>\n",
       "      <td>912 Edenton Street, Birmingham, AL 35242</td>\n",
       "      <td></td>\n",
       "      <td>Appalachia Southern</td>\n",
       "      <td>87587</td>\n",
       "      <td>13</td>\n",
       "      <td>29193</td>\n",
       "    </tr>\n",
       "    <tr>\n",
       "      <th>103451</th>\n",
       "      <td>2013</td>\n",
       "      <td>Knight Mine</td>\n",
       "      <td>Alabama</td>\n",
       "      <td>Franklin</td>\n",
       "      <td>Active</td>\n",
       "      <td>Surface</td>\n",
       "      <td>Indepedent Producer Operator</td>\n",
       "      <td>Mine only</td>\n",
       "      <td>Birmingham Coal &amp; Coke Co., In</td>\n",
       "      <td>P.O. Box 354, Lynn, AL 35242</td>\n",
       "      <td></td>\n",
       "      <td>Appalachia Southern</td>\n",
       "      <td>147499</td>\n",
       "      <td>27</td>\n",
       "      <td>46393</td>\n",
       "    </tr>\n",
       "  </tbody>\n",
       "</table>\n",
       "</div>"
      ],
      "text/plain": [
       "         Year                       Mine Name Mine State Mine County  \\\n",
       "MSHA ID                                                                \n",
       "103381   2013            Tacoa Highwall Miner    Alabama        Bibb   \n",
       "103404   2013                Reid School Mine    Alabama      Blount   \n",
       "100759   2013  North River #1 Underground Min    Alabama     Fayette   \n",
       "103246   2013                      Bear Creek    Alabama    Franklin   \n",
       "103451   2013                     Knight Mine    Alabama    Franklin   \n",
       "\n",
       "                                Mine Status    Mine Type  \\\n",
       "MSHA ID                                                    \n",
       "103381   Active, men working, not producing      Surface   \n",
       "103404                Permanently abandoned      Surface   \n",
       "100759   Active, men working, not producing  Underground   \n",
       "103246                               Active      Surface   \n",
       "103451                               Active      Surface   \n",
       "\n",
       "                         Company Type              Operation Type  \\\n",
       "MSHA ID                                                             \n",
       "103381   Indepedent Producer Operator                   Mine only   \n",
       "103404   Indepedent Producer Operator                   Mine only   \n",
       "100759   Indepedent Producer Operator  Mine and Preparation Plant   \n",
       "103246   Indepedent Producer Operator                   Mine only   \n",
       "103451   Indepedent Producer Operator                   Mine only   \n",
       "\n",
       "                      Operating Company  \\\n",
       "MSHA ID                                   \n",
       "103381          Jesse Creek Mining, Llc   \n",
       "103404    Taft Coal Sales & Associates,   \n",
       "100759         Jim Walter Resources Inc   \n",
       "103246   Birmingham Coal & Coke Co., In   \n",
       "103451   Birmingham Coal & Coke Co., In   \n",
       "\n",
       "                                 Operating Company Address Union Code  \\\n",
       "MSHA ID                                                                 \n",
       "103381             1615 Kent Dairy Rd, Alabaster, AL 35007              \n",
       "103404   3000 Riverchase Galleria Ste 1, Birmingham, AL...       UNIT   \n",
       "100759                3114 County Rd 63 S, Berry, AL 35546       UNIT   \n",
       "103246            912 Edenton Street, Birmingham, AL 35242              \n",
       "103451                        P.O. Box 354, Lynn, AL 35242              \n",
       "\n",
       "          Coal Supply Region  Production (short tons)  Average Employees  \\\n",
       "MSHA ID                                                                    \n",
       "103381   Appalachia Southern                    56004                 10   \n",
       "103404   Appalachia Southern                    28807                 18   \n",
       "100759   Appalachia Southern                  1440115                183   \n",
       "103246   Appalachia Southern                    87587                 13   \n",
       "103451   Appalachia Southern                   147499                 27   \n",
       "\n",
       "         Labor Hours  \n",
       "MSHA ID               \n",
       "103381         22392  \n",
       "103404         28447  \n",
       "100759        474784  \n",
       "103246         29193  \n",
       "103451         46393  "
      ]
     },
     "execution_count": 5,
     "metadata": {},
     "output_type": "execute_result"
    }
   ],
   "source": [
    "df = pd.read_excel (\"../data/coalpublic2013.xls\", header=2, index_col=\"MSHA ID\")\n",
    "df.head()"
   ]
  },
  {
   "cell_type": "code",
   "execution_count": 9,
   "metadata": {
    "collapsed": false
   },
   "outputs": [
    {
     "data": {
      "text/plain": [
       "array(['Independent Producer Operator', u'Operating Subsidiary',\n",
       "       u'Contractor'], dtype=object)"
      ]
     },
     "execution_count": 9,
     "metadata": {},
     "output_type": "execute_result"
    }
   ],
   "source": [
    "df['Company Type'].unique()\n",
    "#unique entries in Company Type column"
   ]
  },
  {
   "cell_type": "code",
   "execution_count": 8,
   "metadata": {
    "collapsed": false
   },
   "outputs": [],
   "source": [
    "# replace Indepedent with Independent\n",
    "df['Company Type'].replace(to_replace='Indepedent Producer Operator', \n",
    "                           value ='Independent Producer Operator',\n",
    "                          inplace=True)\n",
    "#.head will show you a preview"
   ]
  },
  {
   "cell_type": "code",
   "execution_count": 14,
   "metadata": {
    "collapsed": true
   },
   "outputs": [],
   "source": [
    "#replace column names space with _\n",
    "df.rename(columns=lambda x: x.replace(\" \", \"_\"), inplace = True)"
   ]
  },
  {
   "cell_type": "code",
   "execution_count": 15,
   "metadata": {
    "collapsed": false
   },
   "outputs": [
    {
     "data": {
      "text/html": [
       "<div>\n",
       "<table border=\"1\" class=\"dataframe\">\n",
       "  <thead>\n",
       "    <tr style=\"text-align: right;\">\n",
       "      <th></th>\n",
       "      <th>Year</th>\n",
       "      <th>Mine_Name</th>\n",
       "      <th>Mine_State</th>\n",
       "      <th>Mine_County</th>\n",
       "      <th>Mine_Status</th>\n",
       "      <th>Mine_Type</th>\n",
       "      <th>Company_Type</th>\n",
       "      <th>Operation_Type</th>\n",
       "      <th>Operating_Company</th>\n",
       "      <th>Operating_Company_Address</th>\n",
       "      <th>Union_Code</th>\n",
       "      <th>Coal_Supply_Region</th>\n",
       "      <th>Production_(short_tons)</th>\n",
       "      <th>Average_Employees</th>\n",
       "      <th>Labor_Hours</th>\n",
       "    </tr>\n",
       "    <tr>\n",
       "      <th>MSHA ID</th>\n",
       "      <th></th>\n",
       "      <th></th>\n",
       "      <th></th>\n",
       "      <th></th>\n",
       "      <th></th>\n",
       "      <th></th>\n",
       "      <th></th>\n",
       "      <th></th>\n",
       "      <th></th>\n",
       "      <th></th>\n",
       "      <th></th>\n",
       "      <th></th>\n",
       "      <th></th>\n",
       "      <th></th>\n",
       "      <th></th>\n",
       "    </tr>\n",
       "  </thead>\n",
       "  <tbody>\n",
       "    <tr>\n",
       "      <th>103381</th>\n",
       "      <td>2013</td>\n",
       "      <td>Tacoa Highwall Miner</td>\n",
       "      <td>Alabama</td>\n",
       "      <td>Bibb</td>\n",
       "      <td>Active, men working, not producing</td>\n",
       "      <td>Surface</td>\n",
       "      <td>Independent Producer Operator</td>\n",
       "      <td>Mine only</td>\n",
       "      <td>Jesse Creek Mining, Llc</td>\n",
       "      <td>1615 Kent Dairy Rd, Alabaster, AL 35007</td>\n",
       "      <td></td>\n",
       "      <td>Appalachia Southern</td>\n",
       "      <td>56004</td>\n",
       "      <td>10</td>\n",
       "      <td>22392</td>\n",
       "    </tr>\n",
       "    <tr>\n",
       "      <th>103404</th>\n",
       "      <td>2013</td>\n",
       "      <td>Reid School Mine</td>\n",
       "      <td>Alabama</td>\n",
       "      <td>Blount</td>\n",
       "      <td>Permanently abandoned</td>\n",
       "      <td>Surface</td>\n",
       "      <td>Independent Producer Operator</td>\n",
       "      <td>Mine only</td>\n",
       "      <td>Taft Coal Sales &amp; Associates,</td>\n",
       "      <td>3000 Riverchase Galleria Ste 1, Birmingham, AL...</td>\n",
       "      <td>UNIT</td>\n",
       "      <td>Appalachia Southern</td>\n",
       "      <td>28807</td>\n",
       "      <td>18</td>\n",
       "      <td>28447</td>\n",
       "    </tr>\n",
       "    <tr>\n",
       "      <th>100759</th>\n",
       "      <td>2013</td>\n",
       "      <td>North River #1 Underground Min</td>\n",
       "      <td>Alabama</td>\n",
       "      <td>Fayette</td>\n",
       "      <td>Active, men working, not producing</td>\n",
       "      <td>Underground</td>\n",
       "      <td>Independent Producer Operator</td>\n",
       "      <td>Mine and Preparation Plant</td>\n",
       "      <td>Jim Walter Resources Inc</td>\n",
       "      <td>3114 County Rd 63 S, Berry, AL 35546</td>\n",
       "      <td>UNIT</td>\n",
       "      <td>Appalachia Southern</td>\n",
       "      <td>1440115</td>\n",
       "      <td>183</td>\n",
       "      <td>474784</td>\n",
       "    </tr>\n",
       "    <tr>\n",
       "      <th>103246</th>\n",
       "      <td>2013</td>\n",
       "      <td>Bear Creek</td>\n",
       "      <td>Alabama</td>\n",
       "      <td>Franklin</td>\n",
       "      <td>Active</td>\n",
       "      <td>Surface</td>\n",
       "      <td>Independent Producer Operator</td>\n",
       "      <td>Mine only</td>\n",
       "      <td>Birmingham Coal &amp; Coke Co., In</td>\n",
       "      <td>912 Edenton Street, Birmingham, AL 35242</td>\n",
       "      <td></td>\n",
       "      <td>Appalachia Southern</td>\n",
       "      <td>87587</td>\n",
       "      <td>13</td>\n",
       "      <td>29193</td>\n",
       "    </tr>\n",
       "    <tr>\n",
       "      <th>103451</th>\n",
       "      <td>2013</td>\n",
       "      <td>Knight Mine</td>\n",
       "      <td>Alabama</td>\n",
       "      <td>Franklin</td>\n",
       "      <td>Active</td>\n",
       "      <td>Surface</td>\n",
       "      <td>Independent Producer Operator</td>\n",
       "      <td>Mine only</td>\n",
       "      <td>Birmingham Coal &amp; Coke Co., In</td>\n",
       "      <td>P.O. Box 354, Lynn, AL 35242</td>\n",
       "      <td></td>\n",
       "      <td>Appalachia Southern</td>\n",
       "      <td>147499</td>\n",
       "      <td>27</td>\n",
       "      <td>46393</td>\n",
       "    </tr>\n",
       "  </tbody>\n",
       "</table>\n",
       "</div>"
      ],
      "text/plain": [
       "         Year                       Mine_Name Mine_State Mine_County  \\\n",
       "MSHA ID                                                                \n",
       "103381   2013            Tacoa Highwall Miner    Alabama        Bibb   \n",
       "103404   2013                Reid School Mine    Alabama      Blount   \n",
       "100759   2013  North River #1 Underground Min    Alabama     Fayette   \n",
       "103246   2013                      Bear Creek    Alabama    Franklin   \n",
       "103451   2013                     Knight Mine    Alabama    Franklin   \n",
       "\n",
       "                                Mine_Status    Mine_Type  \\\n",
       "MSHA ID                                                    \n",
       "103381   Active, men working, not producing      Surface   \n",
       "103404                Permanently abandoned      Surface   \n",
       "100759   Active, men working, not producing  Underground   \n",
       "103246                               Active      Surface   \n",
       "103451                               Active      Surface   \n",
       "\n",
       "                          Company_Type              Operation_Type  \\\n",
       "MSHA ID                                                              \n",
       "103381   Independent Producer Operator                   Mine only   \n",
       "103404   Independent Producer Operator                   Mine only   \n",
       "100759   Independent Producer Operator  Mine and Preparation Plant   \n",
       "103246   Independent Producer Operator                   Mine only   \n",
       "103451   Independent Producer Operator                   Mine only   \n",
       "\n",
       "                      Operating_Company  \\\n",
       "MSHA ID                                   \n",
       "103381          Jesse Creek Mining, Llc   \n",
       "103404    Taft Coal Sales & Associates,   \n",
       "100759         Jim Walter Resources Inc   \n",
       "103246   Birmingham Coal & Coke Co., In   \n",
       "103451   Birmingham Coal & Coke Co., In   \n",
       "\n",
       "                                 Operating_Company_Address Union_Code  \\\n",
       "MSHA ID                                                                 \n",
       "103381             1615 Kent Dairy Rd, Alabaster, AL 35007              \n",
       "103404   3000 Riverchase Galleria Ste 1, Birmingham, AL...       UNIT   \n",
       "100759                3114 County Rd 63 S, Berry, AL 35546       UNIT   \n",
       "103246            912 Edenton Street, Birmingham, AL 35242              \n",
       "103451                        P.O. Box 354, Lynn, AL 35242              \n",
       "\n",
       "          Coal_Supply_Region  Production_(short_tons)  Average_Employees  \\\n",
       "MSHA ID                                                                    \n",
       "103381   Appalachia Southern                    56004                 10   \n",
       "103404   Appalachia Southern                    28807                 18   \n",
       "100759   Appalachia Southern                  1440115                183   \n",
       "103246   Appalachia Southern                    87587                 13   \n",
       "103451   Appalachia Southern                   147499                 27   \n",
       "\n",
       "         Labor_Hours  \n",
       "MSHA ID               \n",
       "103381         22392  \n",
       "103404         28447  \n",
       "100759        474784  \n",
       "103246         29193  \n",
       "103451         46393  "
      ]
     },
     "execution_count": 15,
     "metadata": {},
     "output_type": "execute_result"
    }
   ],
   "source": [
    "df.head()"
   ]
  },
  {
   "cell_type": "code",
   "execution_count": 16,
   "metadata": {
    "collapsed": false
   },
   "outputs": [
    {
     "data": {
      "text/plain": [
       "1450"
      ]
     },
     "execution_count": 16,
     "metadata": {},
     "output_type": "execute_result"
    }
   ],
   "source": [
    "len(df)"
   ]
  },
  {
   "cell_type": "code",
   "execution_count": 18,
   "metadata": {
    "collapsed": false
   },
   "outputs": [
    {
     "data": {
      "text/plain": [
       "<matplotlib.text.Text at 0xa441b70>"
      ]
     },
     "execution_count": 18,
     "metadata": {},
     "output_type": "execute_result"
    },
    {
     "data": {
      "image/png": "[encoded data removed]",
      "text/plain": [
       "<matplotlib.figure.Figure at 0xa361f28>"
      ]
     },
     "metadata": {},
     "output_type": "display_data"
    }
   ],
   "source": [
    "#employees vs hours\n",
    "plt.scatter(df.Average_Employees, df.Labor_Hours)\n",
    "plt.xlabel(\"Number of Employees\")\n",
    "plt.ylabel(\"Total Hours Worked\")"
   ]
  },
  {
   "cell_type": "code",
   "execution_count": 23,
   "metadata": {
    "collapsed": false
   },
   "outputs": [
    {
     "data": {
      "image/png": "[encoded data removed]",
      "text/plain": [
       "<matplotlib.figure.Figure at 0xaa4f780>"
      ]
     },
     "metadata": {},
     "output_type": "display_data"
    }
   ],
   "source": [
    "#regression plot\n",
    "sns.regplot(df.Average_Employees, df.Labor_Hours)\n",
    "plt.savefig(\"../figures/\" +\"-employees_vs_hours.png\")"
   ]
  },
  {
   "cell_type": "code",
   "execution_count": 25,
   "metadata": {
    "collapsed": false
   },
   "outputs": [
    {
     "name": "stdout",
     "output_type": "stream",
     "text": [
      "Year\n",
      "Mine_Name\n",
      "Mine_State\n",
      "Mine_County\n",
      "Mine_Status\n",
      "Mine_Type\n",
      "Company_Type\n",
      "Operation_Type\n",
      "Operating_Company\n",
      "Operating_Company_Address\n",
      "Union_Code\n",
      "Coal_Supply_Region\n",
      "Production_(short_tons)\n",
      "Average_Employees\n",
      "Labor_Hours\n"
     ]
    }
   ],
   "source": [
    "for column in df.columns:\n",
    "    print column"
   ]
  },
  {
   "cell_type": "code",
   "execution_count": 28,
   "metadata": {
    "collapsed": false
   },
   "outputs": [
    {
     "data": {
      "text/plain": [
       "<matplotlib.collections.PathCollection at 0xaf96fd0>"
      ]
     },
     "execution_count": 28,
     "metadata": {},
     "output_type": "execute_result"
    },
    {
     "data": {
      "image/png": "[encoded data removed]",
      "text/plain": [
       "<matplotlib.figure.Figure at 0xafd40f0>"
      ]
     },
     "metadata": {},
     "output_type": "display_data"
    }
   ],
   "source": [
    "#amount of labor hours relation to to production short tons\n",
    "plt.scatter(df.Labor_Hours, df['Production_(short_tons)'])"
   ]
  },
  {
   "cell_type": "code",
   "execution_count": 30,
   "metadata": {
    "collapsed": false
   },
   "outputs": [
    {
     "data": {
      "text/plain": [
       "<matplotlib.axes._subplots.AxesSubplot at 0xa82ac50>"
      ]
     },
     "execution_count": 30,
     "metadata": {},
     "output_type": "execute_result"
    },
    {
     "data": {
      "image/png": "[encoded data removed]",
      "text/plain": [
       "<matplotlib.figure.Figure at 0xb3279e8>"
      ]
     },
     "metadata": {},
     "output_type": "display_data"
    }
   ],
   "source": [
    "df['Production_(short_tons)'].hist()\n",
    "#alot of things in first value"
   ]
  },
  {
   "cell_type": "code",
   "execution_count": 41,
   "metadata": {
    "collapsed": false
   },
   "outputs": [],
   "source": [
    "#data frame where production is greater than 0\n",
    "# we are removing data\n",
    "df = df[df['Production_(short_tons)'] > 0]"
   ]
  },
  {
   "cell_type": "code",
   "execution_count": 42,
   "metadata": {
    "collapsed": false
   },
   "outputs": [
    {
     "data": {
      "text/plain": [
       "1061"
      ]
     },
     "execution_count": 42,
     "metadata": {},
     "output_type": "execute_result"
    }
   ],
   "source": [
    "len(df)"
   ]
  },
  {
   "cell_type": "code",
   "execution_count": 43,
   "metadata": {
    "collapsed": false
   },
   "outputs": [
    {
     "data": {
      "text/plain": [
       "<matplotlib.axes._subplots.AxesSubplot at 0xafa7f28>"
      ]
     },
     "execution_count": 43,
     "metadata": {},
     "output_type": "execute_result"
    },
    {
     "data": {
      "image/png": "[encoded data removed]",
      "text/plain": [
       "<matplotlib.figure.Figure at 0xc842cc0>"
      ]
     },
     "metadata": {},
     "output_type": "display_data"
    }
   ],
   "source": [
    "df['Production_(short_tons)'].hist()\n",
    "#still skewed distribution\n",
    "#try to make log "
   ]
  },
  {
   "cell_type": "code",
   "execution_count": 46,
   "metadata": {
    "collapsed": false
   },
   "outputs": [
    {
     "name": "stderr",
     "output_type": "stream",
     "text": [
      "C:\\Users\\User\\Anaconda2\\lib\\site-packages\\ipykernel\\__main__.py:2: SettingWithCopyWarning: \n",
      "A value is trying to be set on a copy of a slice from a DataFrame.\n",
      "Try using .loc[row_indexer,col_indexer] = value instead\n",
      "\n",
      "See the caveats in the documentation: http://pandas.pydata.org/pandas-docs/stable/indexing.html#indexing-view-versus-copy\n",
      "  from ipykernel import kernelapp as app\n"
     ]
    }
   ],
   "source": [
    "#make log column\n",
    "df['log_production'] = np.log(df['Production_(short_tons)'])"
   ]
  },
  {
   "cell_type": "code",
   "execution_count": 48,
   "metadata": {
    "collapsed": false
   },
   "outputs": [
    {
     "data": {
      "text/plain": [
       "<matplotlib.axes._subplots.AxesSubplot at 0xab79908>"
      ]
     },
     "execution_count": 48,
     "metadata": {},
     "output_type": "execute_result"
    },
    {
     "data": {
      "image/png": "[encoded data removed]",
      "text/plain": [
       "<matplotlib.figure.Figure at 0xa7f6d68>"
      ]
     },
     "metadata": {},
     "output_type": "display_data"
    }
   ],
   "source": [
    "df.log_production.hist()\n",
    "#almost a log normal distribution"
   ]
  },
  {
   "cell_type": "code",
   "execution_count": 49,
   "metadata": {
    "collapsed": true
   },
   "outputs": [],
   "source": [
    "#loaded in renamed column, did a transformation and, added production log column\n",
    "df.to_csv(\"../data/cleaned_coalpublic2013.csv\")"
   ]
  },
  {
   "cell_type": "code",
   "execution_count": null,
   "metadata": {
    "collapsed": true
   },
   "outputs": [],
   "source": []
  }
 ],
 "metadata": {
  "kernelspec": {
   "display_name": "Python 2",
   "language": "python",
   "name": "python2"
  },
  "language_info": {
   "codemirror_mode": {
    "name": "ipython",
    "version": 2
   },
   "file_extension": ".py",
   "mimetype": "text/x-python",
   "name": "python",
   "nbconvert_exporter": "python",
   "pygments_lexer": "ipython2",
   "version": "2.7.11"
  }
 },
 "nbformat": 4,
 "nbformat_minor": 0
}
